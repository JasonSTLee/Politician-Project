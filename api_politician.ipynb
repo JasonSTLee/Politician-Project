{
 "cells": [
  {
   "cell_type": "markdown",
   "metadata": {},
   "source": [
    "Getting the API and necessary data "
   ]
  },
  {
   "cell_type": "code",
   "execution_count": 1,
   "metadata": {},
   "outputs": [
    {
     "name": "stdout",
     "output_type": "stream",
     "text": [
      "Requirement already satisfied: alpha_vantage in /Library/Frameworks/Python.framework/Versions/3.12/lib/python3.12/site-packages (2.3.1)\n",
      "Requirement already satisfied: aiohttp in /Library/Frameworks/Python.framework/Versions/3.12/lib/python3.12/site-packages (from alpha_vantage) (3.9.5)\n",
      "Requirement already satisfied: requests in /Library/Frameworks/Python.framework/Versions/3.12/lib/python3.12/site-packages (from alpha_vantage) (2.31.0)\n",
      "Requirement already satisfied: aiosignal>=1.1.2 in /Library/Frameworks/Python.framework/Versions/3.12/lib/python3.12/site-packages (from aiohttp->alpha_vantage) (1.3.1)\n",
      "Requirement already satisfied: attrs>=17.3.0 in /Library/Frameworks/Python.framework/Versions/3.12/lib/python3.12/site-packages (from aiohttp->alpha_vantage) (23.2.0)\n",
      "Requirement already satisfied: frozenlist>=1.1.1 in /Library/Frameworks/Python.framework/Versions/3.12/lib/python3.12/site-packages (from aiohttp->alpha_vantage) (1.4.1)\n",
      "Requirement already satisfied: multidict<7.0,>=4.5 in /Library/Frameworks/Python.framework/Versions/3.12/lib/python3.12/site-packages (from aiohttp->alpha_vantage) (6.0.5)\n",
      "Requirement already satisfied: yarl<2.0,>=1.0 in /Library/Frameworks/Python.framework/Versions/3.12/lib/python3.12/site-packages (from aiohttp->alpha_vantage) (1.9.4)\n",
      "Requirement already satisfied: charset-normalizer<4,>=2 in /Library/Frameworks/Python.framework/Versions/3.12/lib/python3.12/site-packages (from requests->alpha_vantage) (3.3.2)\n",
      "Requirement already satisfied: idna<4,>=2.5 in /Library/Frameworks/Python.framework/Versions/3.12/lib/python3.12/site-packages (from requests->alpha_vantage) (3.6)\n",
      "Requirement already satisfied: urllib3<3,>=1.21.1 in /Library/Frameworks/Python.framework/Versions/3.12/lib/python3.12/site-packages (from requests->alpha_vantage) (2.2.1)\n",
      "Requirement already satisfied: certifi>=2017.4.17 in /Library/Frameworks/Python.framework/Versions/3.12/lib/python3.12/site-packages (from requests->alpha_vantage) (2024.2.2)\n",
      "\n",
      "\u001b[1m[\u001b[0m\u001b[34;49mnotice\u001b[0m\u001b[1;39;49m]\u001b[0m\u001b[39;49m A new release of pip is available: \u001b[0m\u001b[31;49m24.0\u001b[0m\u001b[39;49m -> \u001b[0m\u001b[32;49m24.1\u001b[0m\n",
      "\u001b[1m[\u001b[0m\u001b[34;49mnotice\u001b[0m\u001b[1;39;49m]\u001b[0m\u001b[39;49m To update, run: \u001b[0m\u001b[32;49mpython3.12 -m pip install --upgrade pip\u001b[0m\n"
     ]
    }
   ],
   "source": [
    "!pip3 install alpha_vantage"
   ]
  },
  {
   "cell_type": "markdown",
   "metadata": {},
   "source": [
    "Installing necessary libraries"
   ]
  },
  {
   "cell_type": "code",
   "execution_count": 3,
   "metadata": {},
   "outputs": [],
   "source": [
    "from alpha_vantage.timeseries import TimeSeries  # data on stocks\n",
    "from alpha_vantage.cryptocurrencies import CryptoCurrencies  # data on crypto\n",
    "import pandas as pd  # setting up the data in dataframes to later move to csv\n",
    "import requests"
   ]
  },
  {
   "cell_type": "markdown",
   "metadata": {},
   "source": [
    "Storing key in a variable to reference"
   ]
  },
  {
   "cell_type": "code",
   "execution_count": 4,
   "metadata": {},
   "outputs": [],
   "source": [
    "api_key = open('api_key.txt').read()"
   ]
  },
  {
   "cell_type": "markdown",
   "metadata": {},
   "source": [
    "Looping over a dictionary to pull multiple listings and delistings from different dates"
   ]
  },
  {
   "cell_type": "code",
   "execution_count": 4,
   "metadata": {},
   "outputs": [],
   "source": [
    "#  reading the CSV that I created in Postgres to create 25 interval dates because there's only 25 api calls / day\n",
    "dfListDates = pd.read_csv('/Users/admin/Desktop/politician_2/list_days_25.csv') "
   ]
  },
  {
   "cell_type": "markdown",
   "metadata": {},
   "source": [
    "Looping and appending Nancy's tickers"
   ]
  },
  {
   "cell_type": "code",
   "execution_count": 9,
   "metadata": {},
   "outputs": [],
   "source": [
    "#  finding all of Nancy Pelosi's tickers\n",
    "dfNancy = pd.read_csv('/Users/admin/Desktop/politician_2/nancy_tickers.csv') \n",
    "dfNancy = pd.read_csv('/Users/admin/Desktop/politician_2/nancy_tickers.csv')"
   ]
  },
  {
   "cell_type": "code",
   "execution_count": 10,
   "metadata": {},
   "outputs": [],
   "source": [
    "nancy_tickers = dfNancy['nancy_tickers'].tolist() \n"
   ]
  },
  {
   "cell_type": "code",
   "execution_count": 5,
   "metadata": {},
   "outputs": [
    {
     "name": "stdout",
     "output_type": "stream",
     "text": [
      "Failed to fetch data for FB. Error: Invalid API call. Please retry or visit the documentation (https://www.alphavantage.co/documentation/) for TIME_SERIES_DAILY.\n",
      "        date  1. open  2. high  3. low  4. close    5. volume Ticker\n",
      "0 2024-06-24   207.72   212.70  206.59    208.14   80727006.0   AAPL\n",
      "1 2024-06-21   210.39   211.89  207.11    207.49  246421353.0   AAPL\n",
      "2 2024-06-20   213.93   214.24  208.85    209.68   86172451.0   AAPL\n",
      "3 2024-06-18   217.59   218.63  213.00    214.29   79943254.0   AAPL\n",
      "4 2024-06-17   213.37   218.95  212.72    216.67   93728300.0   AAPL\n"
     ]
    }
   ],
   "source": [
    "\n",
    "ts = TimeSeries(key=api_key, output_format='pandas')\n",
    "all_data = []\n",
    "\n",
    "for ticker in nancy_tickers:\n",
    "    try:\n",
    "        # Since there are 2 outputs, I need to initialize them into 2 separate variables\n",
    "        data, meta_data = ts.get_daily(ticker, outputsize='full')\n",
    "        \n",
    "        # Column for the ticker symbol in the \"data\" df\n",
    "        data['Ticker'] = ticker\n",
    "        \n",
    "        # Since the date is the index, I need to reset it in order for it to be a normal column\n",
    "        data.reset_index(inplace=True)\n",
    "\n",
    "        # Appending dataframes to the list, variable \"all_data\"\n",
    "        all_data.append(data)\n",
    "    except ValueError as e:\n",
    "        print(f\"Failed to fetch data for {ticker}. Error: {e}\")\n",
    "\n",
    "\n",
    "# Concatenate all dataframes to a single dataframe\n",
    "finalNancy = pd.concat(all_data, ignore_index=True)\n",
    "\n",
    "# Save the concatenated dataframe to a CSV file, if one does not exist\n",
    "finalNancy.to_csv('nancy_final.csv', index=False)\n",
    "\n",
    "print(finalNancy.head())\n",
    "\n"
   ]
  },
  {
   "cell_type": "markdown",
   "metadata": {},
   "source": [
    "Testing retrieving stocks"
   ]
  },
  {
   "cell_type": "code",
   "execution_count": 9,
   "metadata": {},
   "outputs": [],
   "source": [
    "ts = TimeSeries(key = api_key, output_format = 'pandas')\n",
    "\n",
    "ticker = ['meta']\n",
    "\n",
    "data = ts.get_daily(ticker, outputsize = 'full')\n",
    "\n",
    "df  = data[0]\n",
    "\n",
    "df.reset_index(inplace = True)\n",
    "\n",
    "df.to_csv('adding_nancy.csv')"
   ]
  },
  {
   "cell_type": "markdown",
   "metadata": {},
   "source": [
    "Testing retrieving crypto"
   ]
  },
  {
   "cell_type": "code",
   "execution_count": 6,
   "metadata": {},
   "outputs": [
    {
     "data": {
      "text/plain": [
       "date\n",
       "2024-06-18    0.3986\n",
       "2024-06-17    0.4010\n",
       "2024-06-16    0.4165\n",
       "2024-06-15    0.4139\n",
       "2024-06-14    0.4118\n",
       "               ...  \n",
       "2023-08-28    0.2674\n",
       "2023-08-27    0.2633\n",
       "2023-08-26    0.2609\n",
       "2023-08-25    0.2611\n",
       "2023-08-24    0.2657\n",
       "Name: 4. close, Length: 300, dtype: float64"
      ]
     },
     "execution_count": 6,
     "metadata": {},
     "output_type": "execute_result"
    }
   ],
   "source": [
    "cTs = CryptoCurrencies(key = api_key, output_format = 'pandas')\n",
    "\n",
    "ticker = ['ada']\n",
    "\n",
    "data = cTs.get_digital_currency_daily(ticker, market = 'USD')\n",
    "\n",
    "df  = data[0]\n",
    "\n",
    "df['4. close']"
   ]
  }
 ],
 "metadata": {
  "kernelspec": {
   "display_name": "Python 3",
   "language": "python",
   "name": "python3"
  },
  "language_info": {
   "codemirror_mode": {
    "name": "ipython",
    "version": 3
   },
   "file_extension": ".py",
   "mimetype": "text/x-python",
   "name": "python",
   "nbconvert_exporter": "python",
   "pygments_lexer": "ipython3",
   "version": "3.12.2"
  }
 },
 "nbformat": 4,
 "nbformat_minor": 2
}
